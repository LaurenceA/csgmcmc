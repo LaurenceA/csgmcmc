{
 "cells": [
  {
   "cell_type": "code",
   "execution_count": 2,
   "metadata": {},
   "outputs": [],
   "source": [
    "import numpy as np\n",
    "import pandas as pd\n",
    "%matplotlib widget\n",
    "import matplotlib as mpl\n",
    "import matplotlib.pyplot as plt\n",
    "from matplotlib.gridspec import GridSpec\n",
    "mpl.rc('font', size=7)\n",
    "mpl.rcParams['text.usetex'] = True\n",
    "mpl.rcParams['text.latex.preamble'] = [r'\\usepackage[helvet]{sfmath}\\usepackage{helvet}']"
   ]
  },
  {
   "cell_type": "code",
   "execution_count": 3,
   "metadata": {},
   "outputs": [],
   "source": [
    "Ss = [1,3,10,30,100,300]\n",
    "ls = [1/S for S in Ss]\n",
    "\n",
    "test_loss = []\n",
    "test_err = []\n",
    "for S in Ss:\n",
    "    df = pd.read_csv(f\"results/sgd_res_{S}\")\n",
    "    test_loss.append(df[\"test_loss\"].to_numpy()[-1])\n",
    "    test_err.append(df[\"test_acc\"].to_numpy()[-1])"
   ]
  },
  {
   "cell_type": "code",
   "execution_count": 11,
   "metadata": {},
   "outputs": [
    {
     "data": {
      "application/vnd.jupyter.widget-view+json": {
       "model_id": "a2487eeeded047f6b4f467f878af59be",
       "version_major": 2,
       "version_minor": 0
      },
      "text/plain": [
       "Canvas(toolbar=Toolbar(toolitems=[('Home', 'Reset original view', 'home', 'home'), ('Back', 'Back to previous …"
      ]
     },
     "metadata": {},
     "output_type": "display_data"
    },
    {
     "data": {
      "text/plain": [
       "Text(-0.33, 0.5, 'test accuracy (\\\\%)')"
      ]
     },
     "execution_count": 11,
     "metadata": {},
     "output_type": "execute_result"
    }
   ],
   "source": [
    "fig = plt.figure(figsize=(3.8, 1.5))\n",
    "\n",
    "gs = GridSpec(1, 2, figure=fig,\n",
    "              wspace=0.45, hspace=0.1, left=0.15, right=0.98, bottom=0.23, top=0.92\n",
    "             )\n",
    "A = fig.add_subplot(gs[0, 0])\n",
    "B = fig.add_subplot(gs[0, 1])\n",
    "\n",
    "def plot(ax, test_ys, lab):\n",
    "\n",
    "    ax.set_xscale('log')\n",
    "    ax.plot(ls, test_ys)\n",
    "    ax.yaxis.set_label_coords(-0.33, 0.5, transform = ax.transAxes)\n",
    "    ax.text(-0.33, 1.05, \"\\\\textbf{\"+lab+\"}\", transform=ax.transAxes, va='top', ha='right')\n",
    "    ax.set_xlabel(\"$\\lambda$\")\n",
    "    ax.set_xticks([0.001, 0.01, 0.1, 1])\n",
    "\n",
    "plot(A, [-x for x in test_loss], \"A\")\n",
    "A.set_ylabel(\"test log-likelihood\")\n",
    "\n",
    "plot(B, test_err, \"B\")\n",
    "B.set_ylabel(\"test accuracy (\\%)\")\n",
    "\n",
    "\n",
    "\n",
    "#B.set_xscale('log')\n",
    "#B.plot(ls, [100*x for x in test_err], label=\"CIFAR-10\")\n",
    "#B.plot(ls, [100*x for x in cifar10_err], label=\"CIFAR-10H\")\n",
    "#B.set_ylabel(\"test error (\\%)\")\n",
    "#B.set_yticks([10, 15, 20])\n",
    "#B.yaxis.set_label_coords(-0.16, 0.5, transform = B.transAxes)\n",
    "#B.text(-0.16, 1.05, \"\\\\textbf{B}\", transform=B.transAxes, va='top', ha='right')\n",
    "#B.set_xlabel(\"$\\lambda$\")\n"
   ]
  },
  {
   "cell_type": "code",
   "execution_count": 13,
   "metadata": {},
   "outputs": [],
   "source": [
    "fig.savefig(\"sgd.pdf\")"
   ]
  }
 ],
 "metadata": {
  "kernelspec": {
   "display_name": "Python 3",
   "language": "python",
   "name": "python3"
  },
  "language_info": {
   "codemirror_mode": {
    "name": "ipython",
    "version": 3
   },
   "file_extension": ".py",
   "mimetype": "text/x-python",
   "name": "python",
   "nbconvert_exporter": "python",
   "pygments_lexer": "ipython3",
   "version": "3.7.3"
  }
 },
 "nbformat": 4,
 "nbformat_minor": 4
}
