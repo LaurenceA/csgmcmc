{
 "cells": [
  {
   "cell_type": "code",
   "execution_count": 59,
   "metadata": {},
   "outputs": [],
   "source": [
    "import math\n",
    "import numpy as np\n",
    "import pandas as pd\n",
    "%matplotlib widget\n",
    "import matplotlib as mpl\n",
    "import matplotlib.pyplot as plt\n",
    "from matplotlib.gridspec import GridSpec\n",
    "mpl.rc('font', size=7)\n",
    "mpl.rcParams['text.usetex'] = True\n",
    "mpl.rcParams['text.latex.preamble'] = [r'\\usepackage[helvet]{sfmath}\\usepackage{helvet}']"
   ]
  },
  {
   "cell_type": "code",
   "execution_count": 63,
   "metadata": {},
   "outputs": [],
   "source": [
    "Ss = [1,3,10,30,100,300,1000]\n",
    "ls = [1/S for S in Ss]\n",
    "\n",
    "ps = [0.0, 0.05, 0.1, 0.2, 0.5, 0.8]\n",
    "\n",
    "loss = []\n",
    "err = []\n",
    "for p in ps:\n",
    "    loss.append([])\n",
    "    err.append([])\n",
    "    for S in Ss:\n",
    "        df = pd.read_csv(f\"results/cifar100_{p}_{S}\")\n",
    "        loss[-1].append(((df[\"loss\"].to_numpy()[0])+p*math.log(10))/(1-p))\n",
    "        err[-1].append(100*((1-df[\"error\"].to_numpy()[0])-0.1*p)/(1-p))\n",
    "        \n",
    "for los in loss:\n",
    "    for i in range(len(los))[::-1]:\n",
    "        los[i] = los[i] - los[0]\n",
    "    \n",
    "for er in err:\n",
    "    for i in range(len(er))[::-1]:\n",
    "        er[i] = er[i] - er[0]"
   ]
  },
  {
   "cell_type": "code",
   "execution_count": 64,
   "metadata": {},
   "outputs": [
    {
     "data": {
      "application/vnd.jupyter.widget-view+json": {
       "model_id": "052b15bd121b4b008035cdab897c5536",
       "version_major": 2,
       "version_minor": 0
      },
      "text/plain": [
       "Canvas(toolbar=Toolbar(toolitems=[('Home', 'Reset original view', 'home', 'home'), ('Back', 'Back to previous …"
      ]
     },
     "metadata": {},
     "output_type": "display_data"
    },
    {
     "data": {
      "text/plain": [
       "<matplotlib.legend.Legend at 0x7fad691a3c50>"
      ]
     },
     "execution_count": 64,
     "metadata": {},
     "output_type": "execute_result"
    }
   ],
   "source": [
    "fig = plt.figure(figsize=(5.5, 1.8))\n",
    "\n",
    "gs = GridSpec(1, 2, figure=fig,\n",
    "              wspace=0.4, hspace=0.1, left=0.1, right=0.85, bottom=0.3, top=0.92\n",
    "             )\n",
    "A = fig.add_subplot(gs[0, 0])\n",
    "B = fig.add_subplot(gs[0, 1])\n",
    "#C = fig.add_subplot(gs[0, 2])\n",
    "\n",
    "\n",
    "\n",
    "def plot(ax, loss_errs, lab):\n",
    "    ax.set_xscale('log')\n",
    "    for (p, les) in zip(ps, loss_errs):\n",
    "        ax.plot(ls, les, label=f\"p={p}\")\n",
    "    #ax.plot(ls, cifar10h_ys, label=\"CIFAR-10H\")\n",
    "    ax.yaxis.set_label_coords(-0.2, 0.5, transform = ax.transAxes)\n",
    "    ax.text(-0.2, 1.05, \"\\\\textbf{\"+lab+\"}\", transform=ax.transAxes, va='top', ha='right')\n",
    "    ax.set_xlabel(\"$\\lambda$\")\n",
    "    ax.set_xticks([0.001, 0.01, 0.1, 1])\n",
    "\n",
    "plot(A, loss, \"A\")\n",
    "A.set_ylabel(\"norm. test log-likelihood\")\n",
    "\n",
    "plot(B, err, \"B\")\n",
    "B.set_ylabel(\"norm. test accuracy (\\%)\")\n",
    "B.legend(frameon=False, bbox_to_anchor=(1.05, 0.5), loc='center left')\n",
    "\n",
    "\n",
    "\n",
    "\n",
    "#B.set_xscale('log')\n",
    "#B.plot(ls, [100*x for x in test_err], label=\"CIFAR-10\")\n",
    "#B.plot(ls, [100*x for x in cifar10_err], label=\"CIFAR-10H\")\n",
    "#B.set_ylabel(\"test error (\\%)\")\n",
    "#B.set_yticks([10, 15, 20])\n",
    "#B.yaxis.set_label_coords(-0.16, 0.5, transform = B.transAxes)\n",
    "#B.text(-0.16, 1.05, \"\\\\textbf{B}\", transform=B.transAxes, va='top', ha='right')\n",
    "#B.set_xlabel(\"$\\lambda$\")\n"
   ]
  },
  {
   "cell_type": "code",
   "execution_count": 62,
   "metadata": {},
   "outputs": [],
   "source": [
    "fig.savefig(\"cifar100.pdf\")"
   ]
  },
  {
   "cell_type": "code",
   "execution_count": null,
   "metadata": {},
   "outputs": [],
   "source": []
  }
 ],
 "metadata": {
  "kernelspec": {
   "display_name": "Python 3",
   "language": "python",
   "name": "python3"
  },
  "language_info": {
   "codemirror_mode": {
    "name": "ipython",
    "version": 3
   },
   "file_extension": ".py",
   "mimetype": "text/x-python",
   "name": "python",
   "nbconvert_exporter": "python",
   "pygments_lexer": "ipython3",
   "version": "3.7.3"
  }
 },
 "nbformat": 4,
 "nbformat_minor": 4
}
