{
 "cells": [
  {
   "cell_type": "code",
   "execution_count": 1,
   "metadata": {},
   "outputs": [],
   "source": [
    "import math\n",
    "import numpy as np\n",
    "import pandas as pd\n",
    "%matplotlib widget\n",
    "import matplotlib as mpl\n",
    "import matplotlib.pyplot as plt\n",
    "from matplotlib.gridspec import GridSpec\n",
    "mpl.rc('font', size=7)\n",
    "mpl.rcParams['text.usetex'] = True\n",
    "mpl.rcParams['text.latex.preamble'] = [r'\\usepackage[helvet]{sfmath}\\usepackage{helvet}']"
   ]
  },
  {
   "cell_type": "code",
   "execution_count": 2,
   "metadata": {},
   "outputs": [],
   "source": [
    "Ss = [1,3,10,30,100,300,1000]\n",
    "ls = [1/S for S in Ss]\n",
    "\n",
    "ps = [0.0, 0.05, 0.1, 0.2, 0.5]\n",
    "\n",
    "loss = []\n",
    "err = []\n",
    "\n",
    "loss_norm = []\n",
    "err_norm = []\n",
    "for p in ps:\n",
    "    _loss = []\n",
    "    _err = []\n",
    "    for S in Ss:\n",
    "        df = pd.read_csv(f\"results/noise_{p}_{S}\")\n",
    "        _loss.append(df[\"loss\"].to_numpy()[0])\n",
    "        _err.append(100*(1-df[\"error\"].to_numpy()[0]))\n",
    "    _loss = np.array(_loss)\n",
    "    _err = np.array(_err)\n",
    "    loss.append(_loss)\n",
    "    err.append(_err)\n",
    "    loss_norm.append(_loss - _loss[0])\n",
    "    err_norm.append( _err  - _err[0])\n",
    "    \n",
    "        \n",
    "#for los in loss:\n",
    "#    for i in range(len(los))[::-1]:\n",
    "#        los[i] = los[i] - los[0]\n",
    "    \n",
    "#for er in err:\n",
    "#    for i in range(len(er))[::-1]:\n",
    "#        er[i] = er[i] - er[0]"
   ]
  },
  {
   "cell_type": "code",
   "execution_count": 21,
   "metadata": {},
   "outputs": [
    {
     "data": {
      "application/vnd.jupyter.widget-view+json": {
       "model_id": "a8604dc1eb114ca2a48a3d80cbd1cfd4",
       "version_major": 2,
       "version_minor": 0
      },
      "text/plain": [
       "Canvas(toolbar=Toolbar(toolitems=[('Home', 'Reset original view', 'home', 'home'), ('Back', 'Back to previous …"
      ]
     },
     "metadata": {},
     "output_type": "display_data"
    }
   ],
   "source": [
    "fig = plt.figure(figsize=(5.5, 1.3))\n",
    "\n",
    "gs = GridSpec(1, 4, figure=fig,\n",
    "              wspace=0.5, hspace=0.1, left=0.07, right=0.9, bottom=0.25, top=0.85\n",
    "             )\n",
    "A = fig.add_subplot(gs[0, 0])\n",
    "B = fig.add_subplot(gs[0, 1])\n",
    "C = fig.add_subplot(gs[0, 2])\n",
    "D = fig.add_subplot(gs[0, 3])\n",
    "\n",
    "\n",
    "\n",
    "def plot(ax, loss_errs, lab):\n",
    "    ax.tick_params(axis='y', pad=1.5)\n",
    "    ax.set_xscale('log')\n",
    "    for (p, les, c) in zip(ps, loss_errs, ['#fcc5c0','#fa9fb5','#f768a1','#c51b8a','#7a0177']):\n",
    "        #ax.plot(ls, les, label=f\"p={p}\")\n",
    "        ax.plot(ls, les, label=f\"{p}\", c=c)\n",
    "    #ax.plot(ls, cifar10h_ys, label=\"CIFAR-10H\")\n",
    "    ax.yaxis.set_label_coords(-0.34, 0.5, transform = ax.transAxes)\n",
    "    ax.text(-0.35, 1.2, \"\\\\textbf{\"+lab+\"}\", transform=ax.transAxes, va='top', ha='right')\n",
    "    ax.set_xlabel(\"$\\lambda$\")\n",
    "    ax.set_xticks([0.01, 1])\n",
    "\n",
    "plot(A, loss, \"A\")\n",
    "A.set_ylabel(r\"test log-likelihood\")\n",
    "\n",
    "plot(B, loss_norm, \"B\")\n",
    "B.set_ylabel(r\"$\\Delta$ test log-likelihood\")\n",
    "B.set_yticks([-0.1, 0.0, 0.1])\n",
    "B.hlines([0], *B.get_xlim(), linestyle='dashed', color='gray')\n",
    "#B.set_yticklabels([\"-0.1\", \"0.0\", \"0.1\"])\n",
    "    \n",
    "plot(C, err, \"C\")\n",
    "C.set_ylabel(r\"test accuracy (\\%)\")\n",
    "\n",
    "plot(D, err_norm, \"D\")\n",
    "D.set_ylabel(r\"$\\Delta$ test accuracy (\\%)\")\n",
    "D.set_yticks([-2, 0, 2])\n",
    "D.legend(frameon=False, bbox_to_anchor=(1.0, 0.5), loc='center left', title='p')\n",
    "D.hlines([0], *D.get_xlim(), linestyle='dashed', color='gray')\n",
    "\n",
    "\n",
    "#for n,l in zip(*B.get_xticks()):\n",
    "#    if n<0: l.set_position((0,0.014))\n",
    "B.get_yaxis().get_majorticklabels()[0].set_position((0.03, 0))\n",
    "\n",
    "#B.set_xscale('log')\n",
    "#B.plot(ls, [100*x for x in test_err], label=\"CIFAR-10\")\n",
    "#B.plot(ls, [100*x for x in cifar10_err], label=\"CIFAR-10H\")\n",
    "#B.set_ylabel(\"test error (\\%)\")\n",
    "#B.set_yticks([10, 15, 20])\n",
    "#B.yaxis.set_label_coords(-0.16, 0.5, transform = B.transAxes)\n",
    "#B.text(-0.16, 1.05, \"\\\\textbf{B}\", transform=B.transAxes, va='top', ha='right')\n",
    "#B.set_xlabel(\"$\\lambda$\")\n"
   ]
  },
  {
   "cell_type": "code",
   "execution_count": 22,
   "metadata": {},
   "outputs": [],
   "source": [
    "fig.savefig(\"noise.pdf\")"
   ]
  },
  {
   "cell_type": "code",
   "execution_count": null,
   "metadata": {},
   "outputs": [],
   "source": []
  }
 ],
 "metadata": {
  "kernelspec": {
   "display_name": "Python 3",
   "language": "python",
   "name": "python3"
  },
  "language_info": {
   "codemirror_mode": {
    "name": "ipython",
    "version": 3
   },
   "file_extension": ".py",
   "mimetype": "text/x-python",
   "name": "python",
   "nbconvert_exporter": "python",
   "pygments_lexer": "ipython3",
   "version": "3.7.3"
  }
 },
 "nbformat": 4,
 "nbformat_minor": 4
}
