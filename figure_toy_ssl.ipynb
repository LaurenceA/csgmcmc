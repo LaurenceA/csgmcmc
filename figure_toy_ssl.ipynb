{
 "cells": [
  {
   "cell_type": "code",
   "execution_count": 1,
   "metadata": {},
   "outputs": [],
   "source": [
    "import math\n",
    "import numpy as np\n",
    "import pandas as pd\n",
    "%matplotlib widget\n",
    "import matplotlib as mpl\n",
    "import matplotlib.pyplot as plt\n",
    "from matplotlib.gridspec import GridSpec\n",
    "mpl.rc('font', size=7)\n",
    "mpl.rcParams['text.usetex'] = True\n",
    "mpl.rcParams['text.latex.preamble'] = [r'\\usepackage[helvet]{sfmath}\\usepackage{helvet}']"
   ]
  },
  {
   "cell_type": "code",
   "execution_count": 21,
   "metadata": {},
   "outputs": [],
   "source": [
    "Ss = [1,2,3,4]\n",
    "\n",
    "losses = []\n",
    "accs = []\n",
    "\n",
    "losses_norm = []\n",
    "accs_norm = []\n",
    "for S in Ss:\n",
    "    df = pd.read_csv(f\"results/toy_ssl/{S}\")\n",
    "    num_unlab = df[\"num_unlab\"]\n",
    "    loss = df[\"test_ll\"].to_numpy()\n",
    "    acc = 100*df[\"acc\"].to_numpy()\n",
    "    \n",
    "    losses.append(loss)\n",
    "    accs.append(acc)\n",
    "    losses_norm.append(loss - loss[0])\n",
    "    accs_norm.append(  acc  - acc[0])"
   ]
  },
  {
   "cell_type": "code",
   "execution_count": 23,
   "metadata": {},
   "outputs": [
    {
     "data": {
      "application/vnd.jupyter.widget-view+json": {
       "model_id": "cebf306fa3de4e2b9ec5173c3370b4e5",
       "version_major": 2,
       "version_minor": 0
      },
      "text/plain": [
       "Canvas(toolbar=Toolbar(toolitems=[('Home', 'Reset original view', 'home', 'home'), ('Back', 'Back to previous …"
      ]
     },
     "metadata": {},
     "output_type": "display_data"
    }
   ],
   "source": [
    "fig = plt.figure(figsize=(5.5, 1.3))\n",
    "\n",
    "gs = GridSpec(1, 4, figure=fig,\n",
    "              wspace=0.5, hspace=0.1, left=0.07, right=0.9, bottom=0.25, top=0.85\n",
    "             )\n",
    "A = fig.add_subplot(gs[0, 0])\n",
    "B = fig.add_subplot(gs[0, 1])\n",
    "C = fig.add_subplot(gs[0, 2])\n",
    "D = fig.add_subplot(gs[0, 3])\n",
    "\n",
    "\n",
    "\n",
    "def plot(ax, loss_errs, lab):\n",
    "    ax.tick_params(axis='y', pad=1.5)\n",
    "    #ax.set_xscale('log')\n",
    "    for (S, les, c) in zip(Ss, loss_errs, ['#fcc5c0','#fa9fb5','#f768a1','#c51b8a']): #,'#7a0177']):\n",
    "        #ax.plot(ls, les, label=f\"p={p}\")\n",
    "        ax.plot(num_unlab, les, label=f\"{S}\", c=c)\n",
    "    #ax.plot(ls, cifar10h_ys, label=\"CIFAR-10H\")\n",
    "    ax.yaxis.set_label_coords(-0.34, 0.5, transform = ax.transAxes)\n",
    "    ax.text(-0.35, 1.2, \"\\\\textbf{\"+lab+\"}\", transform=ax.transAxes, va='top', ha='right')\n",
    "    ax.set_xlabel(\"unlabelled points\")\n",
    "    #ax.set_xticks([0.01, 1])\n",
    "\n",
    "plot(A, losses, \"A\")\n",
    "A.set_ylabel(r\"test log-likelihood\")\n",
    "\n",
    "plot(B, losses_norm, \"B\")\n",
    "B.set_ylabel(r\"$\\Delta$ test log-likelihood\")\n",
    "#B.set_yticks([-0.1, 0.0, 0.1])\n",
    "B.hlines([0], *B.get_xlim(), linestyle='dashed', color='gray')\n",
    "#B.set_yticklabels([\"-0.1\", \"0.0\", \"0.1\"])\n",
    "    \n",
    "plot(C, accs, \"C\")\n",
    "C.set_ylabel(r\"test accuracy (\\%)\")\n",
    "\n",
    "plot(D, accs_norm, \"D\")\n",
    "D.set_ylabel(r\"$\\Delta$ test accuracy (\\%)\")\n",
    "#D.set_yticks([-2, 0, 2])\n",
    "D.legend(frameon=False, bbox_to_anchor=(1.0, 0.5), loc='center left', title='S')\n",
    "D.hlines([0], *D.get_xlim(), linestyle='dashed', color='gray')\n",
    "\n",
    "\n",
    "#for n,l in zip(*B.get_xticks()):\n",
    "#    if n<0: l.set_position((0,0.014))\n",
    "B.get_yaxis().get_majorticklabels()[0].set_position((0.03, 0))\n",
    "\n",
    "#B.set_xscale('log')\n",
    "#B.plot(ls, [100*x for x in test_err], label=\"CIFAR-10\")\n",
    "#B.plot(ls, [100*x for x in cifar10_err], label=\"CIFAR-10H\")\n",
    "#B.set_ylabel(\"test error (\\%)\")\n",
    "#B.set_yticks([10, 15, 20])\n",
    "#B.yaxis.set_label_coords(-0.16, 0.5, transform = B.transAxes)\n",
    "#B.text(-0.16, 1.05, \"\\\\textbf{B}\", transform=B.transAxes, va='top', ha='right')\n",
    "#B.set_xlabel(\"$\\lambda$\")\n"
   ]
  },
  {
   "cell_type": "code",
   "execution_count": 24,
   "metadata": {},
   "outputs": [],
   "source": [
    "fig.savefig(\"toy_ssl.pdf\")"
   ]
  },
  {
   "cell_type": "code",
   "execution_count": null,
   "metadata": {},
   "outputs": [],
   "source": []
  }
 ],
 "metadata": {
  "kernelspec": {
   "display_name": "Python 3",
   "language": "python",
   "name": "python3"
  },
  "language_info": {
   "codemirror_mode": {
    "name": "ipython",
    "version": 3
   },
   "file_extension": ".py",
   "mimetype": "text/x-python",
   "name": "python",
   "nbconvert_exporter": "python",
   "pygments_lexer": "ipython3",
   "version": "3.7.3"
  }
 },
 "nbformat": 4,
 "nbformat_minor": 4
}
