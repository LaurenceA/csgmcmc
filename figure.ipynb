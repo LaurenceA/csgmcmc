{
 "cells": [
  {
   "cell_type": "code",
   "execution_count": 1,
   "metadata": {},
   "outputs": [],
   "source": [
    "import numpy as np\n",
    "import pandas as pd\n",
    "%matplotlib widget\n",
    "import matplotlib as mpl\n",
    "import matplotlib.pyplot as plt\n",
    "from matplotlib.gridspec import GridSpec\n",
    "mpl.rc('font', size=7)\n",
    "mpl.rcParams['text.usetex'] = True\n",
    "mpl.rcParams['text.latex.preamble'] = [r'\\usepackage[helvet]{sfmath}\\usepackage{helvet}']"
   ]
  },
  {
   "cell_type": "code",
   "execution_count": 21,
   "metadata": {},
   "outputs": [],
   "source": [
    "Ss = [1,3,10,30,100,300,1000]\n",
    "ls = [1/S for S in Ss]\n",
    "cifar10h_loss = []\n",
    "cifar10h_err = []\n",
    "for S in Ss:\n",
    "    df = pd.read_csv(f\"results/cifar10h_{S}\")\n",
    "    cifar10h_loss.append(df[\"loss\"].to_numpy()[0])\n",
    "    cifar10h_err.append(df[\"error\"].to_numpy()[0])\n",
    "test_loss = []\n",
    "test_err = []\n",
    "for S in Ss:\n",
    "    df = pd.read_csv(f\"results/test_{S}\")\n",
    "    test_loss.append(df[\"loss\"].to_numpy()[0])\n",
    "    test_err.append(df[\"error\"].to_numpy()[0])"
   ]
  },
  {
   "cell_type": "code",
   "execution_count": 88,
   "metadata": {},
   "outputs": [],
   "source": [
    "cifar10h = np.load(\"cifar10h.npy\")\n",
    "\n",
    "errors = cifar10h.sum(-1) - cifar10h.max(-1)\n",
    "max_errors = 16\n",
    "num_errors = np.zeros(max_errors)\n",
    "for i in range(max_errors):\n",
    "    num_errors[i] = (errors == i).sum()"
   ]
  },
  {
   "cell_type": "code",
   "execution_count": 89,
   "metadata": {},
   "outputs": [
    {
     "name": "stderr",
     "output_type": "stream",
     "text": [
      "/Users/laurence/programs/anaconda3/lib/python3.7/site-packages/ipykernel_launcher.py:1: RuntimeWarning: More than 20 figures have been opened. Figures created through the pyplot interface (`matplotlib.pyplot.figure`) are retained until explicitly closed and may consume too much memory. (To control this warning, see the rcParam `figure.max_open_warning`).\n",
      "  \"\"\"Entry point for launching an IPython kernel.\n"
     ]
    },
    {
     "data": {
      "application/vnd.jupyter.widget-view+json": {
       "model_id": "717e4b9d88d941b2bfc28b5eafc968db",
       "version_major": 2,
       "version_minor": 0
      },
      "text/plain": [
       "Canvas(toolbar=Toolbar(toolitems=[('Home', 'Reset original view', 'home', 'home'), ('Back', 'Back to previous …"
      ]
     },
     "metadata": {},
     "output_type": "display_data"
    },
    {
     "data": {
      "text/plain": [
       "Text(-0.275, 0.5, 'test error (\\\\%)')"
      ]
     },
     "execution_count": 89,
     "metadata": {},
     "output_type": "execute_result"
    }
   ],
   "source": [
    "fig = plt.figure(figsize=(5.5, 1.8))\n",
    "\n",
    "gs = GridSpec(1, 3, figure=fig,\n",
    "              wspace=0.4, hspace=0.1, left=0.1, right=0.98, bottom=0.3, top=0.92\n",
    "             )\n",
    "A = fig.add_subplot(gs[0, 0])\n",
    "B = fig.add_subplot(gs[0, 1])\n",
    "C = fig.add_subplot(gs[0, 2])\n",
    "\n",
    "A.bar(range(max_errors), num_errors)\n",
    "A.set_xlabel(\"number of errors (out of $\\sim 50$ labels)\")\n",
    "A.set_ylabel(\"frequency\")\n",
    "A.set_yticks([0, 2000, 4000])\n",
    "A.yaxis.set_label_coords(-0.275, 0.5, transform = A.transAxes)\n",
    "A.text(-0.275, 1.05, \"\\\\textbf{A}\", transform=A.transAxes, va='top', ha='right')\n",
    "\n",
    "\n",
    "\n",
    "\n",
    "def plot(ax, test_ys, cifar10h_ys, lab):\n",
    "\n",
    "    ax.set_xscale('log')\n",
    "    ax.plot(ls, test_loss, label=\"CIFAR-10\")\n",
    "    ax.plot(ls, cifar10h_loss, label=\"CIFAR-10H\")\n",
    "    ax.yaxis.set_label_coords(-0.275, 0.5, transform = ax.transAxes)\n",
    "    ax.text(-0.275, 1.05, \"\\\\textbf{\"+lab+\"}\", transform=ax.transAxes, va='top', ha='right')\n",
    "    ax.set_xlabel(\"$\\lambda$\")\n",
    "    ax.set_xticks([0.001, 0.01, 0.1, 1])\n",
    "\n",
    "plot(B, test_loss, cifar10h_loss, \"B\")\n",
    "B.set_ylabel(\"test log-likelihood\")\n",
    "B.legend(frameon=False)\n",
    "\n",
    "plot(C, [100*x for x in test_err], [100*x for x in cifar10_err], \"C\")\n",
    "C.set_ylabel(\"test error (\\%)\")\n",
    "\n",
    "\n",
    "\n",
    "#B.set_xscale('log')\n",
    "#B.plot(ls, [100*x for x in test_err], label=\"CIFAR-10\")\n",
    "#B.plot(ls, [100*x for x in cifar10_err], label=\"CIFAR-10H\")\n",
    "#B.set_ylabel(\"test error (\\%)\")\n",
    "#B.set_yticks([10, 15, 20])\n",
    "#B.yaxis.set_label_coords(-0.16, 0.5, transform = B.transAxes)\n",
    "#B.text(-0.16, 1.05, \"\\\\textbf{B}\", transform=B.transAxes, va='top', ha='right')\n",
    "#B.set_xlabel(\"$\\lambda$\")\n"
   ]
  },
  {
   "cell_type": "code",
   "execution_count": 57,
   "metadata": {},
   "outputs": [],
   "source": [
    "fig.savefig(\"cifar10.pdf\")"
   ]
  },
  {
   "cell_type": "code",
   "execution_count": null,
   "metadata": {},
   "outputs": [],
   "source": []
  }
 ],
 "metadata": {
  "kernelspec": {
   "display_name": "Python 3",
   "language": "python",
   "name": "python3"
  },
  "language_info": {
   "codemirror_mode": {
    "name": "ipython",
    "version": 3
   },
   "file_extension": ".py",
   "mimetype": "text/x-python",
   "name": "python",
   "nbconvert_exporter": "python",
   "pygments_lexer": "ipython3",
   "version": "3.7.3"
  }
 },
 "nbformat": 4,
 "nbformat_minor": 4
}
