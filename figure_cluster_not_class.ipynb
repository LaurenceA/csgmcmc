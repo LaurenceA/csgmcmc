{
 "cells": [
  {
   "cell_type": "code",
   "execution_count": 53,
   "metadata": {},
   "outputs": [],
   "source": [
    "import math\n",
    "import numpy as np\n",
    "import pandas as pd\n",
    "%matplotlib widget\n",
    "import matplotlib as mpl\n",
    "import matplotlib.pyplot as plt\n",
    "from matplotlib.gridspec import GridSpec\n",
    "mpl.rc('font', size=7)\n",
    "mpl.rcParams['text.usetex'] = True\n",
    "mpl.rcParams['text.latex.preamble'] = [r'\\usepackage[helvet]{sfmath}\\usepackage{helvet}']\n",
    "np.random.seed(0)"
   ]
  },
  {
   "cell_type": "code",
   "execution_count": 63,
   "metadata": {},
   "outputs": [],
   "source": [
    "N = 100\n",
    "x1 = np.random.randn(N)/1.8+2\n",
    "x2 = np.random.randn(N)/1.8-2\n",
    "x = np.concatenate([x1, x2], 0)\n",
    "y = np.random.randn(2*N)\n",
    "p = 1/(1+np.exp(-20*y))\n",
    "c = (np.random.rand(2*N) < p)\n",
    "\n",
    "x1 = x[c]\n",
    "y1 = y[c]\n",
    "x2 = x[np.logical_not(c)]\n",
    "y2 = y[np.logical_not(c)]"
   ]
  },
  {
   "cell_type": "code",
   "execution_count": 64,
   "metadata": {},
   "outputs": [
    {
     "data": {
      "application/vnd.jupyter.widget-view+json": {
       "model_id": "c009ceab63334da0b993ad1e4e3783b7",
       "version_major": 2,
       "version_minor": 0
      },
      "text/plain": [
       "Canvas(toolbar=Toolbar(toolitems=[('Home', 'Reset original view', 'home', 'home'), ('Back', 'Back to previous …"
      ]
     },
     "metadata": {},
     "output_type": "display_data"
    },
    {
     "data": {
      "text/plain": [
       "<matplotlib.legend.Legend at 0x7fa6c9249a20>"
      ]
     },
     "execution_count": 64,
     "metadata": {},
     "output_type": "execute_result"
    }
   ],
   "source": [
    "fig = plt.figure(figsize=(3, 2))\n",
    "\n",
    "gs = GridSpec(1, 1, figure=fig,\n",
    "              wspace=0.5, hspace=0.1, left=0.14, right=0.97, bottom=0.17, top=0.97\n",
    "             )\n",
    "A = fig.add_subplot(gs[0, 0])\n",
    "\n",
    "A.scatter(x1, y1, c=\"tab:blue\", s=1, label=\"suitable\")\n",
    "A.scatter(x2, y2, c=\"tab:orange\", s=1, label=\"not suitable\")\n",
    "A.set_xlabel(\"axis separating gender\")\n",
    "A.set_ylabel(\"normalized grade\")\n",
    "A.set_ylim(-3, 5)\n",
    "A.set_xlim(-4, 4)\n",
    "A.hlines(0, -4, 4, linestyle=\"--\", alpha=0.3, label=\"true boundary\")\n",
    "A.legend(frameon=False)"
   ]
  },
  {
   "cell_type": "code",
   "execution_count": 65,
   "metadata": {},
   "outputs": [],
   "source": [
    "fig.savefig(\"cluster_not_class.pdf\")"
   ]
  },
  {
   "cell_type": "code",
   "execution_count": null,
   "metadata": {},
   "outputs": [],
   "source": []
  }
 ],
 "metadata": {
  "kernelspec": {
   "display_name": "Python 3",
   "language": "python",
   "name": "python3"
  },
  "language_info": {
   "codemirror_mode": {
    "name": "ipython",
    "version": 3
   },
   "file_extension": ".py",
   "mimetype": "text/x-python",
   "name": "python",
   "nbconvert_exporter": "python",
   "pygments_lexer": "ipython3",
   "version": "3.7.3"
  }
 },
 "nbformat": 4,
 "nbformat_minor": 4
}
