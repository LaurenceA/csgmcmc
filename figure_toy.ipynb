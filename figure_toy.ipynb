{
 "cells": [
  {
   "cell_type": "code",
   "execution_count": 5,
   "metadata": {},
   "outputs": [],
   "source": [
    "import numpy as np\n",
    "import pandas as pd\n",
    "%matplotlib widget\n",
    "import matplotlib as mpl\n",
    "import matplotlib.pyplot as plt\n",
    "from matplotlib.gridspec import GridSpec\n",
    "mpl.rc('font', size=7)\n",
    "mpl.rcParams['text.usetex'] = True\n",
    "mpl.rcParams['text.latex.preamble'] = [r'\\usepackage[helvet]{sfmath}\\usepackage{helvet}']"
   ]
  },
  {
   "cell_type": "code",
   "execution_count": 65,
   "metadata": {},
   "outputs": [
    {
     "name": "stderr",
     "output_type": "stream",
     "text": [
      "/Users/laurence/programs/anaconda3/lib/python3.7/site-packages/ipykernel_launcher.py:1: RuntimeWarning: More than 20 figures have been opened. Figures created through the pyplot interface (`matplotlib.pyplot.figure`) are retained until explicitly closed and may consume too much memory. (To control this warning, see the rcParam `figure.max_open_warning`).\n",
      "  \"\"\"Entry point for launching an IPython kernel.\n"
     ]
    },
    {
     "data": {
      "application/vnd.jupyter.widget-view+json": {
       "model_id": "f6854aa5abb34d9e942e290d17a09547",
       "version_major": 2,
       "version_minor": 0
      },
      "text/plain": [
       "Canvas(toolbar=Toolbar(toolitems=[('Home', 'Reset original view', 'home', 'home'), ('Back', 'Back to previous …"
      ]
     },
     "metadata": {},
     "output_type": "display_data"
    },
    {
     "data": {
      "text/plain": [
       "Text(-0.275, 1.05, '\\\\textbf{B}')"
      ]
     },
     "execution_count": 65,
     "metadata": {},
     "output_type": "execute_result"
    }
   ],
   "source": [
    "fig = plt.figure(figsize=(5, 1.5))\n",
    "\n",
    "gs = GridSpec(1, 2, figure=fig,\n",
    "              wspace=1, hspace=0.1, left=0.2, right=0.98, bottom=0.23, top=0.92\n",
    "             )\n",
    "\n",
    "A = fig.add_subplot(gs[0, 0])\n",
    "B = fig.add_subplot(gs[0, 1])\n",
    "\n",
    "Ss = range(1, 7)[::-1]\n",
    "max_idxs = []\n",
    "\n",
    "for S in Ss:\n",
    "    df = pd.read_csv(f'results/500_100/toy_{S}')\n",
    "    max_idxs.append(np.argmax(df[\"test_ll\"]))\n",
    "    A.plot(df[\"lambda\"], df[\"test_ll\"], c='tab:blue', alpha=S/8, label=f'$S={S}$')\n",
    "A.set_xscale('log')\n",
    "A.set_xticks([0.01, 0.1, 1., 10])\n",
    "A.set_xlabel('$\\lambda$')\n",
    "A.set_ylabel('test log-likelihood')\n",
    "A.legend(bbox_to_anchor=(1.05, 1), loc='upper left', frameon=False)\n",
    "\n",
    "df[\"lambda\"][max_idxs]\n",
    "\n",
    "B.plot(Ss, 1/(df[\"lambda\"][max_idxs]))\n",
    "B.plot([1, 6], [1, 6], c='gray', alpha=0.3)\n",
    "B.set_xlabel('$S$')\n",
    "B.set_ylabel('$1/\\lambda^*$')\n",
    "B.set_ylim(0, 10)\n",
    "B.set_xlim(0, 6)\n",
    "\n",
    "A.yaxis.set_label_coords(-0.275, 0.5, transform = A.transAxes)\n",
    "A.text(-0.275, 1.05, \"\\\\textbf{A}\", transform=A.transAxes, va='top', ha='right')\n",
    "\n",
    "B.yaxis.set_label_coords(-0.275, 0.5, transform = B.transAxes)\n",
    "B.text(-0.275, 1.05, \"\\\\textbf{B}\", transform=B.transAxes, va='top', ha='right')"
   ]
  },
  {
   "cell_type": "code",
   "execution_count": 66,
   "metadata": {},
   "outputs": [],
   "source": [
    "fig.savefig(\"toy.pdf\")"
   ]
  },
  {
   "cell_type": "code",
   "execution_count": null,
   "metadata": {},
   "outputs": [],
   "source": []
  }
 ],
 "metadata": {
  "kernelspec": {
   "display_name": "Python 3",
   "language": "python",
   "name": "python3"
  },
  "language_info": {
   "codemirror_mode": {
    "name": "ipython",
    "version": 3
   },
   "file_extension": ".py",
   "mimetype": "text/x-python",
   "name": "python",
   "nbconvert_exporter": "python",
   "pygments_lexer": "ipython3",
   "version": "3.7.3"
  }
 },
 "nbformat": 4,
 "nbformat_minor": 4
}
